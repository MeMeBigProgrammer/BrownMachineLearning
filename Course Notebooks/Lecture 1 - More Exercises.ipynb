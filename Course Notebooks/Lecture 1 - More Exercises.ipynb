{
 "cells": [
  {
   "cell_type": "markdown",
   "metadata": {},
   "source": [
    "# Lecture 1 Exercises\n",
    "\n",
    "Now that you're equipped with some pretty powerful tools, let's see what they can do!"
   ]
  },
  {
   "cell_type": "markdown",
   "metadata": {},
   "source": [
    "## Introduce yourself\n",
    "1. Create the variables \"first\" and \"last\" to make the program below print your name!"
   ]
  },
  {
   "cell_type": "code",
   "execution_count": 59,
   "metadata": {},
   "outputs": [
    {
     "name": "stdout",
     "output_type": "stream",
     "text": [
      "My name is G W , and I'm becoming a Python master!\n",
      "My name is GW, and I'm becoming a Python master too!\n"
     ]
    }
   ],
   "source": [
    "# create the vars here:\n",
    "first = \"G\"\n",
    "last = \"W\"\n",
    "print(\"My name is\",first,last,\", and I'm becoming a Python master!\")\n",
    "# notice the difference in output from this print statement. Here we used \"string concatenation\"\n",
    "print(\"My name is \"+first+last+\", and I'm becoming a Python master too!\")"
   ]
  },
  {
   "cell_type": "markdown",
   "metadata": {},
   "source": [
    "What types of variables are first and last?\n",
    "1. print the type of first and last below\n",
    "2. check that both are \"str\" type"
   ]
  },
  {
   "cell_type": "code",
   "execution_count": 15,
   "metadata": {
    "collapsed": true
   },
   "outputs": [],
   "source": [
    "# print the types here\n"
   ]
  },
  {
   "cell_type": "markdown",
   "metadata": {},
   "source": [
    "## Use those programming skills!\n",
    "You've been asked to find the area of many circles of different radii, but typing the formula into a calculator every time takes way too long! Instead, you've decided to write a program that calculates the area of a circle from its radius\n",
    "1. create a variable, \"r\", and set it equal to some radius\n",
    "2. create a variable, \"area\", and set it equal to your area calculation\n",
    "3. print the result such as \"your area is... <area>!\"\n",
    "4. test your code with the following values:"
   ]
  },
  {
   "cell_type": "markdown",
   "metadata": {},
   "source": [
    "- radius = 1 --> area = 3.1415\n",
    "- radius = 2 --> area = 12.566\n",
    "- radius = 50 -> area = 7853.75"
   ]
  },
  {
   "cell_type": "markdown",
   "metadata": {},
   "source": [
    "hint: the area of a circle is $A =\\pi r^2$"
   ]
  },
  {
   "cell_type": "code",
   "execution_count": 29,
   "metadata": {
    "collapsed": true
   },
   "outputs": [],
   "source": [
    "# use this value for pi\n",
    "pi = 3.1415\n",
    "# variable that represents the radius\n",
    "\n",
    "# formula that calculates the area of a circle\n",
    "\n",
    "# print the result in a nicely formatted string\n"
   ]
  },
  {
   "cell_type": "markdown",
   "metadata": {},
   "source": [
    "## It's a hot day-- let's throw waterballoons!\n",
    "You'd like to have a waterballoon fight but there is a drought and water is expensive so you want to know how much it will cost to fill up the balloons. Model each waterballoon as a sphere, and figure how much it will cost to fill <i>n</i> number of waterballoons of radius <i>r</i> meters if the cost of water is <i>x</i> dollars per cubic meter\n",
    "1. fill in the program below with your solution\n",
    "2. test your code with the following values:"
   ]
  },
  {
   "cell_type": "markdown",
   "metadata": {},
   "source": [
    "-  r=1,n=1,x=1 --> cost= \\$4.19\n",
    "-  r=0.1,n=100,x=5 --> cost = \\$2.09"
   ]
  },
  {
   "cell_type": "markdown",
   "metadata": {},
   "source": [
    "hint: the volume of a sphere is $V = \\frac{4}{3} \\pi r^3$"
   ]
  },
  {
   "cell_type": "code",
   "execution_count": 40,
   "metadata": {
    "collapsed": true
   },
   "outputs": [],
   "source": [
    "# use this value for pi\n",
    "pi = 3.1415\n",
    "# create the input variables, \"r\", \"n\", and \"x\" and set them to inital values of your choice\n",
    "\n",
    "# calculate the volume of a single waterballoon \n",
    "\n",
    "# calculate the total volume of water needed\n",
    "\n",
    "# calculate the total cost of water\n",
    "\n",
    "# round the result to the nearest penny (two decimal places)\n",
    "# hint: google \"how to round in python 3\" and find information on the function round() (we'll talk more about functions later)\n",
    "\n",
    "# print the results in a nicely formatted string\n"
   ]
  },
  {
   "cell_type": "markdown",
   "metadata": {},
   "source": [
    "## Conversions\n",
    "Since it's so hot outside the weather channel says it's a record high temperature! The problem is that the temperature is displayed in Celsius but your friend only knows Farenheit! Write a program that converts a temperature in Celsius to Farenheit.\n",
    "\n",
    "1. write a program to convert temperature from Celsius to Farenheit\n",
    "2. print the result in an elegant string: \"X degrees Celsius is Y degrees Farenheit\" where X and Y are the input and output, respectively\n",
    "2. test your code with the following values:"
   ]
  },
  {
   "cell_type": "markdown",
   "metadata": {},
   "source": [
    "- 0 --> \"0 degrees Celsius is 32.0 degrees Farenheit\"\n",
    "- 100 --> \"100 degrees Celcius is 212.0 degrees Farenheit\""
   ]
  },
  {
   "cell_type": "markdown",
   "metadata": {},
   "source": [
    "hint: $^{\\circ}F = \\frac{9}{5} ^{\\circ}C + 32$"
   ]
  },
  {
   "cell_type": "code",
   "execution_count": null,
   "metadata": {},
   "outputs": [],
   "source": []
  },
  {
   "cell_type": "markdown",
   "metadata": {},
   "source": [
    "## Higher, lower\n",
    "Are you a good guesser? Let's play a game! You're going to choose a number between 1 and 100 and your classmate is going to try to guess what it is. Since there's a 1/100 chance that they'll guess right, you're going to give them some help. After each guess, you're going to let them know whether they were higher, lower, or right on your target number. Also, in order to be competitive you're going to keep track of how many guesses it takes them!"
   ]
  },
  {
   "cell_type": "markdown",
   "metadata": {},
   "source": [
    "1. Write a program that stores your target value and accepts user input while the user has not guessed correctly. After each guess, print whether the guess was higher, lower, or correct compared to your target number. After the use has guessed correctly, print out how many guesses it took them."
   ]
  },
  {
   "cell_type": "markdown",
   "metadata": {},
   "source": [
    "hint: You'll want to use a while() loop. The syntax is given, just change \"some condition\" to your condition! You'll also want to create an extra variable to increment each time the user takes a guess. A simple way to increase the value of a variable in python is:  my_variable += 1"
   ]
  },
  {
   "cell_type": "code",
   "execution_count": 74,
   "metadata": {
    "collapsed": true
   },
   "outputs": [],
   "source": [
    "# TODO: fill in your target value\n",
    "target = 1\n",
    "# get the user's first input\n",
    "\n",
    "# loop through the following code while the user's guess is not equal to the target value\n",
    "while(some condition):\n",
    "    # write your code that responds to the users input here\n",
    "    # if the guess was wrong, get a new input and let the loop repeat\n",
    "    \n",
    "# after they've guessed right (the loop is broken) tell them how many guesses it took them"
   ]
  },
  {
   "cell_type": "markdown",
   "metadata": {},
   "source": [
    "## Mean, Median, Mode\n",
    "Important statistical infromation about sets of data include the mean, median and mode. Given a list of numbers, print these values for the list. Just a reminder that the median is the number(s) in the middle of the sorted list, the mode is the number or numbers that appear the most, and the mean is the average value."
   ]
  },
  {
   "cell_type": "markdown",
   "metadata": {},
   "source": [
    "Hints: \n",
    "- to sort a list, use the function: sorted(your_list) \n",
    "- to get the length of a list, use the function: len(your_list)\n",
    "- to find how many times a certain number appears in the list, use: your_list.count(some number)"
   ]
  },
  {
   "cell_type": "code",
   "execution_count": 2,
   "metadata": {
    "collapsed": true
   },
   "outputs": [],
   "source": [
    "x = [1, 5, 20, 3, 4, 3, 9, 2]"
   ]
  },
  {
   "cell_type": "markdown",
   "metadata": {},
   "source": [
    "## Challenge Problem: Office Space\n",
    "\n",
    "\n",
    "In the 1999 movie Office Space, a character creates a program that takes fractions of cents that are truncated in a bank’s transactions and deposits them into his own account. This is not a new idea, and hackers who have actually attempted it have been arrested. In this exercise you will simulate the program to determine how long it would take to become a millionaire this way.\n",
    "\n",
    "Assume the following details:\n",
    "\n",
    "•You have access to 10,000 bank accounts\n",
    "\n",
    "•Initially, the bank accounts have values that are uniformly distributed between $\\$100$ and $\\$100,000$\n",
    "\n",
    "•The nominal annual interest rate on the accounts is 5%\n",
    "\n",
    "•Interest is compounded each day and added to the accounts, except that fractions of a cent are truncated\n",
    "\n",
    "•The truncated fractions are deposited into an illegal account that initially has a balance of $0 The illegal account can hold fractional values and it also accrues daily interest\n",
    "\n",
    "Write a program that simulates this situation and find out how long it takes for the illegal account to reach one million dollars."
   ]
  },
  {
   "cell_type": "code",
   "execution_count": null,
   "metadata": {
    "collapsed": true
   },
   "outputs": [],
   "source": []
  }
 ],
 "metadata": {
  "kernelspec": {
   "display_name": "Python 2",
   "language": "python",
   "name": "python2"
  },
  "language_info": {
   "codemirror_mode": {
    "name": "ipython",
    "version": 2
   },
   "file_extension": ".py",
   "mimetype": "text/x-python",
   "name": "python",
   "nbconvert_exporter": "python",
   "pygments_lexer": "ipython2",
   "version": "2.7.13"
  }
 },
 "nbformat": 4,
 "nbformat_minor": 2
}
