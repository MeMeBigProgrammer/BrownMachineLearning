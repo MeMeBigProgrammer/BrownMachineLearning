{
 "cells": [
  {
   "cell_type": "markdown",
   "metadata": {},
   "source": [
    "## E2.1 The unique values of a vector\n",
    "Using just for loop, get the unique values in a vector. Ex.: for a vector ``v = [1, 1, 2, 3, 4, 3]``, the out put will be a vector ``u = [1, 2, 3, 4]``. Make it a function and do not use numpy. Also, make use of the code that checks if an element occurs from yesterday. Make it a function too."
   ]
  },
  {
   "cell_type": "code",
   "execution_count": 1,
   "metadata": {},
   "outputs": [
    {
     "name": "stdout",
     "output_type": "stream",
     "text": [
      "The unique values in u are: True\n"
     ]
    }
   ],
   "source": [
    "def unique(v):\n",
    "    return True\n",
    "\n",
    "v = [1, 1, 2, 3, 4, 3]\n",
    "u = unique(v)\n",
    "\n",
    "print(\"The unique values in u are: \" + str(u))"
   ]
  },
  {
   "cell_type": "markdown",
   "metadata": {},
   "source": [
    "## E2.2 Replacing values in a vector\n",
    "You are given a vector ``v`` and a number ``n``. Make a function that replaces all the occurrences of ``n`` in ``v`` by the number 1 and all the other elements by the number ``-1``. Ex.: if ``v = [1, 2, 1, 5, 2]`` and ``n = 2``, the output is ``v_new = [-1, 1, -1, -1, 1]``. Do not use numpy in this problem."
   ]
  },
  {
   "cell_type": "code",
   "execution_count": 2,
   "metadata": {},
   "outputs": [
    {
     "name": "stdout",
     "output_type": "stream",
     "text": [
      "The new vector is: True\n"
     ]
    }
   ],
   "source": [
    "def replace_numbers(v, n):  \n",
    "    return True\n",
    "\n",
    "v, n = [1, 2, 1, 5, 2], 2\n",
    "v_new = replace_numbers(v, n)\n",
    "\n",
    "print(\"The new vector is: \"  + str(v_new))"
   ]
  },
  {
   "cell_type": "markdown",
   "metadata": {},
   "source": [
    "If you could use numpy, how would you change the function above? Hint: it is related to the function ``np.zeros()``."
   ]
  },
  {
   "cell_type": "code",
   "execution_count": 3,
   "metadata": {},
   "outputs": [
    {
     "name": "stdout",
     "output_type": "stream",
     "text": [
      "The new vector is: True\n"
     ]
    }
   ],
   "source": [
    "import numpy as np\n",
    "\n",
    "def replace_numbers(v, n):  \n",
    "    return True\n",
    "\n",
    "v, n = [1, 2, 1, 5, 2], 2\n",
    "v_new = replace_numbers(v, n)\n",
    "\n",
    "print(\"The new vector is: \"  + str(v_new))"
   ]
  },
  {
   "cell_type": "markdown",
   "metadata": {},
   "source": [
    "The difference between these functionis quite silly, but it will be useful in the future."
   ]
  },
  {
   "cell_type": "markdown",
   "metadata": {},
   "source": [
    "## E2.3 Returning the sign of a dot product\n",
    "You are given $x$ of length $d$ and $w$ of length $d + 1$. Make a function that returns the sign (if positive, return 1 and, if negative, return -1) of the expression $v \\cdot x + b$, where $v$ is $w$ up to the second to last element and $b$ is its last element. Use the function ``np.sign()``."
   ]
  },
  {
   "cell_type": "code",
   "execution_count": 4,
   "metadata": {},
   "outputs": [
    {
     "name": "stdout",
     "output_type": "stream",
     "text": [
      "The sign dot is True\n"
     ]
    }
   ],
   "source": [
    "def sign_dot(x, w):\n",
    "    return True\n",
    "\n",
    "w = [2, 1, 30]\n",
    "x = [3, 4]\n",
    "\n",
    "print(\"The sign dot is \" + str(sign_dot(x, w)))"
   ]
  },
  {
   "cell_type": "markdown",
   "metadata": {},
   "source": [
    "## E2.4 Operations on matrices column-wise\n",
    "### Maximum and minimum\n",
    "You are given a matrix. Your task is to find the maximum and the maximum and the minimum values of each column and store them in two vectors (one for the maximum values and another one for the minumum values)"
   ]
  },
  {
   "cell_type": "code",
   "execution_count": null,
   "metadata": {
    "collapsed": true
   },
   "outputs": [],
   "source": [
    "# TODO"
   ]
  },
  {
   "cell_type": "markdown",
   "metadata": {},
   "source": [
    "### Indices of the maximum and minimum values\n",
    "Now, get the indices of the maximum and minimum values in each column. Store them in two vectors as above."
   ]
  },
  {
   "cell_type": "code",
   "execution_count": null,
   "metadata": {
    "collapsed": true
   },
   "outputs": [],
   "source": [
    "# TODO"
   ]
  },
  {
   "cell_type": "markdown",
   "metadata": {},
   "source": [
    "### Summing and Averaging\n",
    "Compute the sum and the average of each column. Store them in two vectors as above."
   ]
  },
  {
   "cell_type": "code",
   "execution_count": 36,
   "metadata": {
    "collapsed": true
   },
   "outputs": [],
   "source": [
    "# TODO"
   ]
  },
  {
   "cell_type": "markdown",
   "metadata": {},
   "source": [
    "### Numpy power\n",
    "Lastly, go to the numpy documentation and code the same as above using the functions ``np.max``, ``np.min``, ``np.argmax``, ``np.argmin``, ``np.sum`` and ``np.mean``."
   ]
  },
  {
   "cell_type": "code",
   "execution_count": 37,
   "metadata": {
    "collapsed": true
   },
   "outputs": [],
   "source": [
    "# TODO"
   ]
  },
  {
   "cell_type": "markdown",
   "metadata": {},
   "source": [
    "## E2.6 Drawing functions\n",
    "Here I'd like you to draw the following functions with $x$ ranging from $-5$ to $5$:\n",
    "\n",
    "- $f(x) = \\tanh(x)$ (Hyperbolic Tagent) , on a blue solid line;\n",
    "- $f(x) = 1/(1+e^{-z})$ (Sigmoid), on a green dashed line;\n",
    "- $f(x) = \\max(0, x)$ (ReLU - Rectified Linear Unit), on a magenta solid line;\n",
    "- $f(x) = \\text{sign}(x)$ (Step or Sign function), on a red dotted line.\n",
    "\n",
    "Also, add a grid to the plot, add a legend with the name of each function make the lines 2 mm wide and make the axis of the plot be limited by ``x_min = -5``, ``x_max = -5``, ``y_min = -1.2`` and ``y_max = 1.2``. Check this [this link](https://matplotlib.org/users/pyplot_tutorial.html) for more info or ask the teacher/TA if you have any question."
   ]
  },
  {
   "cell_type": "code",
   "execution_count": 8,
   "metadata": {},
   "outputs": [],
   "source": []
  },
  {
   "cell_type": "markdown",
   "metadata": {},
   "source": [
    "## E2.5  Challenge: Find Index of Convergence\n",
    "\n",
    "Suppose that the function called \"seq\" defines a sequence, where the input $n$ is an index and the output is the $n$-th term in the sequence. Write a function where the input is any $\\epsilon>0$ and the output is some $N$ such that $\\vert x_n-x^\\star\\vert<\\epsilon$ for all $n>N$, so $N$ is the index of convergence."
   ]
  },
  {
   "cell_type": "code",
   "execution_count": 9,
   "metadata": {
    "collapsed": true
   },
   "outputs": [],
   "source": [
    "import numpy as np\n",
    "\n",
    "def seq(n):\n",
    "    return 2-1/n**2\n",
    "\n",
    "v       = np.linspace(-1, 1, 200)\n",
    "epsilon = True\n",
    "\n"
   ]
  }
 ],
 "metadata": {
  "kernelspec": {
   "display_name": "Python 2",
   "language": "python",
   "name": "python2"
  },
  "language_info": {
   "codemirror_mode": {
    "name": "ipython",
    "version": 2
   },
   "file_extension": ".py",
   "mimetype": "text/x-python",
   "name": "python",
   "nbconvert_exporter": "python",
   "pygments_lexer": "ipython2",
   "version": "2.7.13"
  }
 },
 "nbformat": 4,
 "nbformat_minor": 2
}
