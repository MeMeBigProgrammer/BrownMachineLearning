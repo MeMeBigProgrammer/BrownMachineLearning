{
 "cells": [
  {
   "cell_type": "markdown",
   "metadata": {},
   "source": [
    "# 5. Derivatives\n",
    "In this section we will give some basic ideas about derivatives that will be useful in the next classes! There won't be many details here since learning it should take at least one whole semester and we just have a day to cover it (╥﹏╥) ..."
   ]
  },
  {
   "cell_type": "markdown",
   "metadata": {},
   "source": [
    "## 5.1 The slope of a straight line\n",
    "Well, let's begin with the basics. The following section of code below demonstrates how to plot two points in the $xy$-plane."
   ]
  },
  {
   "cell_type": "code",
   "execution_count": 2,
   "metadata": {},
   "outputs": [
    {
     "data": {
      "image/png": "[encoded data removed]",
      "text/plain": [
       "<matplotlib.figure.Figure at 0x10dd06110>"
      ]
     },
     "metadata": {},
     "output_type": "display_data"
    }
   ],
   "source": [
    "%matplotlib inline\n",
    "import matplotlib.pyplot as plt\n",
    "\n",
    "p0 = [1, 2]\n",
    "p1 = [3, 3]\n",
    "\n",
    "plt.plot([p0[0], p1[0]], [p0[1], p1[1]], '.k', markersize=10)\n",
    "\n",
    "# Leave this part in your code\n",
    "ax = plt.gca()\n",
    "ax.set_aspect('equal')\n",
    "plt.rcParams['figure.figsize'] = [5, 5]\n",
    "plt.xlim(-0.1, 3.1)\n",
    "plt.ylim(-0.1, 3.1)\n",
    "plt.show()"
   ]
  },
  {
   "cell_type": "markdown",
   "metadata": {},
   "source": [
    "Now, draw a red dashed line that passes through these points. How do you do that?"
   ]
  },
  {
   "cell_type": "code",
   "execution_count": 3,
   "metadata": {},
   "outputs": [
    {
     "data": {
      "image/png": "[encoded data removed]",
      "text/plain": [
       "<matplotlib.figure.Figure at 0x10df1b550>"
      ]
     },
     "metadata": {},
     "output_type": "display_data"
    }
   ],
   "source": [
    "import numpy as np\n",
    "import matplotlib.pyplot as plt\n",
    "\n",
    "p0 = [1, 2]\n",
    "p1 = [3, 3]\n",
    "\n",
    "x = np.arange(-1, 5, .2)\n",
    "# m = compute slope\n",
    "# y = compute corresponding y values\n",
    "\n",
    "#plt.plot(x, y, '--r')\n",
    "plt.plot([p0[0], p1[0]], [p0[1], p1[1]], '.k', markersize=10)\n",
    "\n",
    "# Leave this part in your code\n",
    "ax = plt.gca()\n",
    "ax.set_aspect('equal')\n",
    "plt.rcParams['figure.figsize'] = [5, 5]\n",
    "plt.xlim(-0.1, 3.1)\n",
    "plt.ylim(-0.1, 3.1)\n",
    "plt.show()"
   ]
  },
  {
   "cell_type": "markdown",
   "metadata": {},
   "source": [
    "In order to compute the above picture, you had to compute the *slope* of that line. Create a function that returns that slope, given two points $p_0$ and $p_1$ in 2d (assert that in your code), and another function that draws the points and plots the line as above. Make the latter call the former."
   ]
  },
  {
   "cell_type": "code",
   "execution_count": 5,
   "metadata": {},
   "outputs": [],
   "source": [
    "import numpy as np\n",
    "import matplotlib.pyplot as plt\n",
    "\n",
    "def compute_slope(p0, p1):\n",
    "    return True\n",
    "\n",
    "def plot_line(p0, p1):\n",
    "    return True\n",
    "    \n",
    "p0 = [1, 2]\n",
    "p1 = [3, 3]\n",
    "plot_line(p0, p1)\n",
    "plt.show()"
   ]
  },
  {
   "cell_type": "markdown",
   "metadata": {},
   "source": [
    "Finally, choose a math function $f(x)$, e.g $f(x) = x^2$, and plot it. Then create a python function that receives $x_0$, $f(x)$ and a number $\\epsilon$ (``epsilon``) and uses the above function with $p_0 = (x_0 + \\epsilon, f(x_0 + \\epsilon))$ and $p_1 = (x_0 - \\epsilon, f(x_0 - \\epsilon))$. That this new function should also plot the point $(x_0, f(x_0))$."
   ]
  },
  {
   "cell_type": "code",
   "execution_count": 8,
   "metadata": {},
   "outputs": [
    {
     "ename": "TypeError",
     "evalue": "'bool' object is not iterable",
     "output_type": "error",
     "traceback": [
      "\u001b[0;31m---------------------------------------------------------------------------\u001b[0m",
      "\u001b[0;31mTypeError\u001b[0m                                 Traceback (most recent call last)",
      "\u001b[0;32m<ipython-input-8-fe66f49e2a59>\u001b[0m in \u001b[0;36m<module>\u001b[0;34m()\u001b[0m\n\u001b[1;32m     19\u001b[0m \u001b[0mplt\u001b[0m\u001b[0;34m.\u001b[0m\u001b[0mrcParams\u001b[0m\u001b[0;34m[\u001b[0m\u001b[0;34m'figure.figsize'\u001b[0m\u001b[0;34m]\u001b[0m \u001b[0;34m=\u001b[0m \u001b[0;34m[\u001b[0m\u001b[0;36m10\u001b[0m\u001b[0;34m,\u001b[0m \u001b[0;36m10\u001b[0m\u001b[0;34m]\u001b[0m\u001b[0;34m\u001b[0m\u001b[0m\n\u001b[1;32m     20\u001b[0m \u001b[0mplt\u001b[0m\u001b[0;34m.\u001b[0m\u001b[0mxlim\u001b[0m\u001b[0;34m(\u001b[0m\u001b[0mmin\u001b[0m\u001b[0;34m(\u001b[0m\u001b[0mx\u001b[0m\u001b[0;34m)\u001b[0m \u001b[0;34m-\u001b[0m \u001b[0;36m.1\u001b[0m\u001b[0;34m,\u001b[0m \u001b[0mmax\u001b[0m\u001b[0;34m(\u001b[0m\u001b[0mx\u001b[0m\u001b[0;34m)\u001b[0m \u001b[0;34m+\u001b[0m \u001b[0;36m.1\u001b[0m\u001b[0;34m)\u001b[0m\u001b[0;34m\u001b[0m\u001b[0m\n\u001b[0;32m---> 21\u001b[0;31m \u001b[0mplt\u001b[0m\u001b[0;34m.\u001b[0m\u001b[0mylim\u001b[0m\u001b[0;34m(\u001b[0m\u001b[0mmin\u001b[0m\u001b[0;34m(\u001b[0m\u001b[0mf\u001b[0m\u001b[0;34m(\u001b[0m\u001b[0mx\u001b[0m\u001b[0;34m)\u001b[0m\u001b[0;34m)\u001b[0m \u001b[0;34m-\u001b[0m \u001b[0;36m.1\u001b[0m\u001b[0;34m,\u001b[0m \u001b[0mmax\u001b[0m\u001b[0;34m(\u001b[0m\u001b[0mf\u001b[0m\u001b[0;34m(\u001b[0m\u001b[0mx\u001b[0m\u001b[0;34m)\u001b[0m\u001b[0;34m)\u001b[0m \u001b[0;34m+\u001b[0m \u001b[0;36m.1\u001b[0m\u001b[0;34m)\u001b[0m\u001b[0;34m\u001b[0m\u001b[0m\n\u001b[0m\u001b[1;32m     22\u001b[0m \u001b[0mplt\u001b[0m\u001b[0;34m.\u001b[0m\u001b[0mshow\u001b[0m\u001b[0;34m(\u001b[0m\u001b[0;34m)\u001b[0m\u001b[0;34m\u001b[0m\u001b[0m\n",
      "\u001b[0;31mTypeError\u001b[0m: 'bool' object is not iterable"
     ]
    },
    {
     "data": {
      "image/png": "[encoded data removed]",
      "text/plain": [
       "<matplotlib.figure.Figure at 0x10e1149d0>"
      ]
     },
     "metadata": {},
     "output_type": "display_data"
    }
   ],
   "source": [
    "import numpy as np\n",
    "import matplotlib.pyplot as plt\n",
    "\n",
    "def plot_tangent(x0, f, epsilon):\n",
    "    return True\n",
    "\n",
    "def f(x):\n",
    "    return True\n",
    "\n",
    "x = np.arange(-1, 2, .05)\n",
    "# plt.plot(x, f(x))\n",
    "x0 = 1\n",
    "epsilon = .1\n",
    "# plot_tangent(x0, f, epsilon)\n",
    "\n",
    "## Leave this part in your code\n",
    "ax = plt.gca()\n",
    "ax.set_aspect('equal')\n",
    "plt.rcParams['figure.figsize'] = [10, 10]\n",
    "plt.xlim(min(x) - .1, max(x) + .1)\n",
    "plt.ylim(min(f(x)) - .1, max(f(x)) + .1)\n",
    "plt.show()"
   ]
  },
  {
   "cell_type": "markdown",
   "metadata": {},
   "source": [
    "## 5.2 Numerical derivatives of functions"
   ]
  },
  {
   "cell_type": "markdown",
   "metadata": {},
   "source": [
    "So, we saw in class that there are certain rules for diferentiating functions. In this section, we'll show that that indeed work, at least numerically. To do so, create a function like the previous one,receiving $x_0$, $f(x)$ and a number $\\epsilon$, but instead of plotting the line, just return it's slope."
   ]
  },
  {
   "cell_type": "code",
   "execution_count": 10,
   "metadata": {},
   "outputs": [
    {
     "name": "stdout",
     "output_type": "stream",
     "text": [
      "True\n"
     ]
    }
   ],
   "source": [
    "import numpy as np\n",
    "import matplotlib.pyplot as plt\n",
    "\n",
    "def compute_tangent_slope(x0, f, epsilon):\n",
    "    return True\n",
    "\n",
    "\n",
    "x0 = 1\n",
    "epsilon = .1\n",
    "print(compute_tangent_slope(x0, f, epsilon))"
   ]
  },
  {
   "cell_type": "markdown",
   "metadata": {},
   "source": [
    "Try that for different functions and diffentent $x_0$'s, but mainly test different $\\epsilon$'s. What happens as you decrease $\\epsilon$?"
   ]
  }
 ],
 "metadata": {
  "kernelspec": {
   "display_name": "Python 2",
   "language": "python",
   "name": "python2"
  },
  "language_info": {
   "codemirror_mode": {
    "name": "ipython",
    "version": 2
   },
   "file_extension": ".py",
   "mimetype": "text/x-python",
   "name": "python",
   "nbconvert_exporter": "python",
   "pygments_lexer": "ipython2",
   "version": "2.7.13"
  }
 },
 "nbformat": 4,
 "nbformat_minor": 2
}
